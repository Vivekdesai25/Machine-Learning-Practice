{
  "cells": [
    {
      "cell_type": "markdown",
      "metadata": {
        "id": "view-in-github",
        "colab_type": "text"
      },
      "source": [
        "<a href=\"https://colab.research.google.com/github/Vivekdesai25/Machine-Learning-Practice/blob/main/DecisionTreeClassifier.ipynb\" target=\"_parent\"><img src=\"https://colab.research.google.com/assets/colab-badge.svg\" alt=\"Open In Colab\"/></a>"
      ]
    },
    {
      "cell_type": "code",
      "source": [
        "import pandas as pd\n",
        "data = pd.read_csv(\"/PlayTennis (1).csv\")\n",
        "\n",
        "\n",
        "# print(data.head())\n",
        "# print(data.tail())\n",
        "# print(data.isnull().sum())\n",
        "# print(data.info())\n",
        "# print(data.describe())\n",
        "\n",
        "for col in data.columns[:-1]:\n",
        "    data[col]=data[col].astype('category')\n",
        "    mapping=dict(enumerate(data[col].cat.categories))\n",
        "    print(f\"{col}:{mapping}\")\n",
        "    data[col]=data[col].cat.codes\n",
        "print(\"categorical to numerical conversion successful\")\n",
        "\n",
        "target='Play Tennis'\n",
        "data[target]=data[target].map({'Yes' :1,'No':0})\n",
        "\n",
        "print(\"target converted successfully\")\n",
        "\n",
        "\n",
        "from sklearn.model_selection import train_test_split\n",
        "\n",
        "x=data.drop(target,axis=1)\n",
        "y=data[target]\n",
        "\n",
        "X_train, X_test, y_train, y_test = train_test_split(x,y,test_size=0.2,train_size=0.8,random_state=58)\n",
        "print(\"data splitted successfully\")\n",
        "\n",
        "from sklearn.tree import DecisionTreeClassifier\n",
        "model=DecisionTreeClassifier(criterion='entropy',random_state=58)\n",
        "model.fit(X_train,y_train)\n",
        "\n",
        "print(\"model trained\")\n",
        "\n",
        "print(\"\\n Train accuracy is\",model.score(X_train,y_train))\n",
        "print(\"\\n Train accuracy for testing is\",model.score(X_test,y_test))\n",
        "\n",
        "sample = pd.DataFrame(data=[[1, 2, 0, 1]], columns=x.columns)\n",
        "prediction=model.predict(sample)\n",
        "print(\"prediction Accuracy\",prediction)"
      ],
      "metadata": {
        "colab": {
          "base_uri": "https://localhost:8080/"
        },
        "id": "sqpd513PQJqe",
        "outputId": "194715d1-7992-4518-b6dc-52d1d700febc"
      },
      "execution_count": 3,
      "outputs": [
        {
          "output_type": "stream",
          "name": "stdout",
          "text": [
            "Outlook:{0: 'Overcast', 1: 'Rain', 2: 'Sunny'}\n",
            "Temperature:{0: 'Cool', 1: 'Hot', 2: 'Mild'}\n",
            "Humidity:{0: 'High', 1: 'Normal'}\n",
            "Wind:{0: 'Strong', 1: 'Weak'}\n",
            "categorical to numerical conversion successful\n",
            "target converted successfully\n",
            "data splitted successfully\n",
            "model trained\n",
            "\n",
            " Train accuracy is 1.0\n",
            "\n",
            " Train accuracy for testing is 1.0\n",
            "prediction Accuracy [1]\n"
          ]
        }
      ]
    }
  ],
  "metadata": {
    "colab": {
      "provenance": [],
      "include_colab_link": true
    },
    "kernelspec": {
      "display_name": "Python 3",
      "name": "python3"
    },
    "language_info": {
      "name": "python"
    }
  },
  "nbformat": 4,
  "nbformat_minor": 0
}