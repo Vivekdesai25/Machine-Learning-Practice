import pandas as pd
data = pd.read_csv("C:/Users/HP/Downloads/iris.csv")


# print(data.head())
# print(data.tail())
# print(data.isnull().sum())
# print(data.info())
# print(data.describe())


x=data.drop("target",axis=1)
y=data["target"]

from sklearn.preprocessing import StandardScaler
scalar=StandardScaler()
x_scaled=scalar.fit_transform(x)
print("Features processed")

#data splitting.
from sklearn.model_selection import train_test_split
X_train, X_test, y_train, y_test = train_test_split(x_scaled,y,train_size=0.8, test_size=0.2, random_state=50)
print("data splitted successfully")

from sklearn.linear_model import LogisticRegression
model=LogisticRegression(max_iter=200)
model.fit(X_train,y_train)

print("model trained successfully")

train_score=model.score(X_train,y_train)
print("model accuracy is:",train_score)

import numpy as  np
new_sample = np.array([[6.5,3.2,5.1,2]])
new_scaled=scalar.transform(new_sample)
prediction=model.predict(new_scaled)
print("target=",prediction[0])
