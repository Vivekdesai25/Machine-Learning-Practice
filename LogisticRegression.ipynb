{
  "cells": [
    {
      "cell_type": "markdown",
      "metadata": {
        "id": "view-in-github",
        "colab_type": "text"
      },
      "source": [
        "<a href=\"https://colab.research.google.com/github/Vivekdesai25/Machine-Learning-Practice/blob/main/LogisticRegression.ipynb\" target=\"_parent\"><img src=\"https://colab.research.google.com/assets/colab-badge.svg\" alt=\"Open In Colab\"/></a>"
      ]
    },
    {
      "cell_type": "code",
      "source": [
        "import pandas as pd\n",
        "data = pd.read_csv(\"/iris (1).csv\")\n",
        "\n",
        "\n",
        "# print(data.head())\n",
        "# print(data.tail())\n",
        "# print(data.isnull().sum())\n",
        "# print(data.info())\n",
        "# print(data.describe())\n",
        "\n",
        "\n",
        "x=data.drop(\"target\",axis=1)\n",
        "y=data[\"target\"]\n",
        "\n",
        "from sklearn.preprocessing import StandardScaler\n",
        "scalar=StandardScaler()\n",
        "x_scaled=scalar.fit_transform(x)\n",
        "print(\"Features processed\")\n",
        "\n",
        "#data splitting.\n",
        "from sklearn.model_selection import train_test_split\n",
        "X_train, X_test, y_train, y_test = train_test_split(x_scaled,y,train_size=0.8, test_size=0.2, random_state=50)\n",
        "print(\"data splitted successfully\")\n",
        "\n",
        "from sklearn.linear_model import LogisticRegression\n",
        "model=LogisticRegression(max_iter=200)\n",
        "model.fit(X_train,y_train)\n",
        "\n",
        "print(\"model trained successfully\")\n",
        "\n",
        "train_score=model.score(X_train,y_train)\n",
        "print(\"model accuracy is:\",train_score)\n",
        "\n",
        "import numpy as  np\n",
        "new_sample = np.array([[6.5,3.2,5.1,2]])\n",
        "new_scaled=scalar.transform(new_sample)\n",
        "prediction=model.predict(new_scaled)\n",
        "print(\"target=\",prediction[0])"
      ],
      "metadata": {
        "colab": {
          "base_uri": "https://localhost:8080/"
        },
        "id": "FpdrfAUgO5c1",
        "outputId": "d4771302-c31a-4d0c-c25d-668a9c050a0c"
      },
      "execution_count": 2,
      "outputs": [
        {
          "output_type": "stream",
          "name": "stdout",
          "text": [
            "Features processed\n",
            "data splitted successfully\n",
            "model trained successfully\n",
            "model accuracy is: 0.975\n",
            "target= Iris-virginica\n"
          ]
        },
        {
          "output_type": "stream",
          "name": "stderr",
          "text": [
            "/usr/local/lib/python3.11/dist-packages/sklearn/utils/validation.py:2739: UserWarning: X does not have valid feature names, but StandardScaler was fitted with feature names\n",
            "  warnings.warn(\n"
          ]
        }
      ]
    }
  ],
  "metadata": {
    "colab": {
      "provenance": [],
      "include_colab_link": true
    },
    "kernelspec": {
      "display_name": "Python 3",
      "name": "python3"
    },
    "language_info": {
      "name": "python"
    }
  },
  "nbformat": 4,
  "nbformat_minor": 0
}